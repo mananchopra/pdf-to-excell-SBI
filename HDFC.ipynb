{
 "cells": [
  {
   "cell_type": "code",
   "execution_count": null,
   "id": "9c17cbef",
   "metadata": {},
   "outputs": [],
   "source": [
    "import pdfplumber\n",
    "import requests\n",
    "import tabula \n",
    "import pandas as pd\n",
    "from collections import namedtuple\n",
    "import re"
   ]
  },
  {
   "cell_type": "code",
   "execution_count": null,
   "id": "b5a5b60c",
   "metadata": {},
   "outputs": [],
   "source": [
    "file=\"hdfc.pdf\""
   ]
  },
  {
   "cell_type": "code",
   "execution_count": null,
   "id": "65bc2284",
   "metadata": {},
   "outputs": [],
   "source": [
    "pdf = pdfplumber.open(file, password=\"\")\n",
    "page = pdf.pages\n",
    "jj=[]\n",
    "for i in page or []:\n",
    "    text=i.extract_text()\n",
    "    text=text.split('\\n')\n",
    "    jj.append(text)\n",
    "\n",
    "pf=pd.DataFrame(jj)\n",
    "pf\n",
    "    "
   ]
  },
  {
   "cell_type": "code",
   "execution_count": null,
   "id": "c5225f82",
   "metadata": {},
   "outputs": [],
   "source": [
    "doctype=[]\n",
    "for i in jj or []:\n",
    "    text=i[8].split()\n",
    "    if len(text)>=4:\n",
    "        doctype.append(text[3])\n",
    "doctype\n",
    "    "
   ]
  },
  {
   "cell_type": "code",
   "execution_count": null,
   "id": "3397f86d",
   "metadata": {},
   "outputs": [],
   "source": [
    "for i in pdf.pages or []:\n",
    "    tt=i.extract_table()\n",
    "    print(tt)"
   ]
  },
  {
   "cell_type": "code",
   "execution_count": null,
   "id": "ba0652c9",
   "metadata": {},
   "outputs": [],
   "source": [
    "Line = namedtuple('Line','Txn_Date Narration Withdrawls Deposits Closing_Balance')\n",
    "heading=['Txn_Date','Narration','Withdrawls','Deposits','Closing_Balance']"
   ]
  },
  {
   "cell_type": "code",
   "execution_count": null,
   "id": "bc514d53",
   "metadata": {},
   "outputs": [],
   "source": [
    "line_re = re.compile(r'\\d{2}/\\d{2}/\\d{4}')\n",
    "bb_re= re.compile('nan')\n",
    "print(type(line_re))"
   ]
  },
  {
   "cell_type": "code",
   "execution_count": null,
   "id": "2ca708d9",
   "metadata": {},
   "outputs": [],
   "source": [
    "lines=[]\n",
    "for i in pdf.pages or []:\n",
    "    text=i.extract_text()\n",
    "    for line in text.split('\\n') or []:\n",
    "        mo = line_re.match(line)\n",
    "        \n",
    "        if(mo!=None):\n",
    "            if line.startswith(mo.group()):\n",
    "                items=line\n",
    "                print(items)\n",
    "            #lines.append(Line(*items))\n",
    "print(lines)"
   ]
  },
  {
   "cell_type": "code",
   "execution_count": null,
   "id": "7a74040a",
   "metadata": {},
   "outputs": [],
   "source": [
    "tabels=[]\n",
    "for i in range(len(pdf.pages)):\n",
    "    df = tabula.read_pdf(file, password=\" \", pages=i)\n",
    "    for j in df:\n",
    "        t=j.values.tolist()\n",
    "        tabels.append(t)\n"
   ]
  },
  {
   "cell_type": "code",
   "execution_count": null,
   "id": "1f2b7c75",
   "metadata": {},
   "outputs": [],
   "source": [
    "tt=[]\n",
    "for i in tabels or []:\n",
    "    if line_re.match(i[0][0]):\n",
    "        for j in i or []:\n",
    "            if line_re.search((str)(j[0])):\n",
    "                jj=[]\n",
    "                jj.append(j)\n",
    "            else:\n",
    "                for k in range(len(jj)):\n",
    "                    if k==1:\n",
    "                        jj[k]+=\" \"+j[k]\n",
    "        tt.append(jj)\n",
    "print(tt)"
   ]
  },
  {
   "cell_type": "code",
   "execution_count": null,
   "id": "ea309af8",
   "metadata": {},
   "outputs": [],
   "source": [
    "tb=[]\n",
    "\n",
    "for i in tabels or []:\n",
    "    if line_re.match(i[0][0]):\n",
    "        for j in i or []:\n",
    "            if line_re.search((str)(j[0])):\n",
    "                 print(j)"
   ]
  },
  {
   "cell_type": "code",
   "execution_count": null,
   "id": "50b03d72",
   "metadata": {},
   "outputs": [],
   "source": []
  },
  {
   "cell_type": "code",
   "execution_count": null,
   "id": "1a422a15",
   "metadata": {},
   "outputs": [],
   "source": []
  },
  {
   "cell_type": "code",
   "execution_count": null,
   "id": "38e1c278",
   "metadata": {},
   "outputs": [],
   "source": [
    "\n",
    "pp=[]\n",
    "for i in range(len(pdf.pages)):\n",
    "    tabels=[]\n",
    "    df = tabula.read_pdf(file, password=\"141488765\", pages=i)\n",
    "    for j in df:\n",
    "        t=j.values.tolist()\n",
    "        tabels.append(t)\n",
    "    pp.append(tabels)\n",
    "    \n",
    "tabel=[]\n",
    "\n",
    "for r in pp or []:\n",
    "    tb=[]\n",
    "    for i in r or []:\n",
    "        if line_re.match(i[0][0]):\n",
    "            jj=[]\n",
    "            for j in i or []:\n",
    "                if(line_re.match(str(j[0]))):\n",
    "                    if jj!=[]:\n",
    "                        tb.append(jj)\n",
    "                    jj=j\n",
    "                else:\n",
    "                    jj[1] = str(jj[1])+\" \"+str(j[1])        \n",
    "            if jj!=[]:\n",
    "                tb.append(jj)\n",
    "    if tb!=[]:\n",
    "        tabel.append(tb)\n",
    "tabel\n"
   ]
  },
  {
   "cell_type": "code",
   "execution_count": null,
   "id": "2e7def1d",
   "metadata": {},
   "outputs": [],
   "source": []
  },
  {
   "cell_type": "code",
   "execution_count": null,
   "id": "c488e69a",
   "metadata": {},
   "outputs": [],
   "source": [
    "current=[]\n",
    "savings=[]\n",
    "current.append(heading)\n",
    "savings.append(heading)\n",
    "for i in range(len(tabel)):\n",
    "    if doctype[i]=='SAVINGS':\n",
    "        for j in tabel[i]:\n",
    "            cc=[]\n",
    "            for k in range(len(j)) or []:\n",
    "                if k!=4:\n",
    "                    cc.append(j[k])\n",
    "            savings.append(cc)\n",
    "    else:\n",
    "        for j in tabel[i]:\n",
    "            cc=[]\n",
    "            for k in range(len(j)) or []:\n",
    "                if k!=5:\n",
    "                    cc.append(j[k])\n",
    "            current.append(cc)\n",
    "df=pd.DataFrame(savings)\n",
    "di=pd.DataFrame(current)\n"
   ]
  },
  {
   "cell_type": "code",
   "execution_count": null,
   "id": "60118a38",
   "metadata": {},
   "outputs": [],
   "source": [
    "writer2 = pd.ExcelWriter('hdfc.xlsx')\n",
    "df.to_excel(writer2, sheet_name = 'Savings', index = False)\n",
    "di.to_excel(writer2, sheet_name = 'Current', index = False)\n",
    "writer2.save()"
   ]
  },
  {
   "cell_type": "code",
   "execution_count": null,
   "id": "6501d2cb",
   "metadata": {},
   "outputs": [],
   "source": []
  },
  {
   "cell_type": "code",
   "execution_count": null,
   "id": "44b9bd79",
   "metadata": {},
   "outputs": [],
   "source": [
    "df"
   ]
  },
  {
   "cell_type": "code",
   "execution_count": null,
   "id": "f500ff3d",
   "metadata": {},
   "outputs": [],
   "source": [
    "di"
   ]
  },
  {
   "cell_type": "code",
   "execution_count": null,
   "id": "db230fe1",
   "metadata": {},
   "outputs": [],
   "source": [
    "df"
   ]
  },
  {
   "cell_type": "code",
   "execution_count": null,
   "id": "7b5f1c7b",
   "metadata": {},
   "outputs": [],
   "source": []
  },
  {
   "cell_type": "code",
   "execution_count": null,
   "id": "65da876a",
   "metadata": {},
   "outputs": [],
   "source": []
  },
  {
   "cell_type": "code",
   "execution_count": null,
   "id": "57f8560e",
   "metadata": {},
   "outputs": [],
   "source": []
  }
 ],
 "metadata": {
  "kernelspec": {
   "display_name": "Python 3",
   "language": "python",
   "name": "python3"
  },
  "language_info": {
   "codemirror_mode": {
    "name": "ipython",
    "version": 3
   },
   "file_extension": ".py",
   "mimetype": "text/x-python",
   "name": "python",
   "nbconvert_exporter": "python",
   "pygments_lexer": "ipython3",
   "version": "3.8.8"
  }
 },
 "nbformat": 4,
 "nbformat_minor": 5
}
