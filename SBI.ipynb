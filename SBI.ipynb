{
 "cells": [
  {
   "cell_type": "code",
   "execution_count": null,
   "id": "53f2a169",
   "metadata": {},
   "outputs": [],
   "source": [
    "import pdfplumber\n",
    "import requests\n",
    "import tabula as tb\n",
    "import pandas as pd"
   ]
  },
  {
   "cell_type": "code",
   "execution_count": null,
   "id": "1f5f3de3",
   "metadata": {},
   "outputs": [],
   "source": [
    "file = \"Account Statement.pdf\""
   ]
  },
  {
   "cell_type": "code",
   "execution_count": null,
   "id": "e5598081",
   "metadata": {},
   "outputs": [],
   "source": [
    "pdf = pdfplumber.open(file, password=\"16Apr!4498\")\n",
    "page = pdf.pages"
   ]
  },
  {
   "cell_type": "code",
   "execution_count": null,
   "id": "7188cdd6",
   "metadata": {},
   "outputs": [],
   "source": [
    "rr=[]\n",
    "for i in page or []:\n",
    "    tt=i.extract_table()\n",
    "    cc=[]\n",
    "    if rr==[]:\n",
    "        cnt=True\n",
    "    else:\n",
    "        cnt=False\n",
    "    for j in tt or []:\n",
    "        if cnt:\n",
    "            cc.append(j)\n",
    "        cnt=True\n",
    "        for b in cc:\n",
    "             for y in range(len(b)):\n",
    "                    if b[y]=='-':\n",
    "                        b[y]='0'\n",
    "    rr.append(cc)\n",
    "tf=[]\n",
    "bt=[]\n",
    "cnt=False\n",
    "for i in rr:\n",
    "    for j in i:\n",
    "        if cnt==False:\n",
    "            cnt=True\n",
    "            bt.append(j)\n",
    "        tf.append(j)\n",
    "df=pd.DataFrame(tf)\n",
    "df\n",
    "        "
   ]
  },
  {
   "cell_type": "code",
   "execution_count": null,
   "id": "e062e2b6",
   "metadata": {},
   "outputs": [],
   "source": [
    "df.to_csv('SBI.csv', index=False)"
   ]
  },
  {
   "cell_type": "code",
   "execution_count": null,
   "id": "bf80351b",
   "metadata": {},
   "outputs": [],
   "source": [
    "page = pdf.pages[0]\n",
    "text = page.extract_text()\n",
    "print(\"First page data : {}\".format(text))\n",
    "for i in pdf.pages:\n",
    "    text=i.extract_text()\n",
    "    cc=[]\n",
    "    for j in text or []:\n",
    "        cc.append(j)\n",
    "    "
   ]
  },
  {
   "cell_type": "code",
   "execution_count": null,
   "id": "8a98a468",
   "metadata": {},
   "outputs": [],
   "source": [
    "bt\n",
    "g=[]\n",
    "cnt=0\n",
    "for i in bt[0]:\n",
    "    if cnt!=2:\n",
    "        g.append(i)\n",
    "    cnt=cnt+1\n",
    "g"
   ]
  },
  {
   "cell_type": "code",
   "execution_count": null,
   "id": "33918cb4",
   "metadata": {},
   "outputs": [],
   "source": [
    "t=bt[0]\n",
    "t\n",
    "iii=\"\"\n",
    "for i in g or []:\n",
    "    iii+=i\n",
    "    iii+=\" \"\n",
    "iii\n",
    "\n"
   ]
  },
  {
   "cell_type": "code",
   "execution_count": null,
   "id": "a34bd284",
   "metadata": {},
   "outputs": [],
   "source": [
    "page = pdf.pages[0]\n",
    "text = page.extract_text()\n",
    "gg=[]\n",
    "b=\"Ref No./Cheque\"\n",
    "for line in text.split('\\n'):\n",
    "    if line==b:\n",
    "        break\n",
    "    gg.append(line)\n",
    "\n",
    "di=pd.DataFrame(gg)\n",
    "gg\n",
    "            "
   ]
  },
  {
   "cell_type": "code",
   "execution_count": null,
   "id": "04f9b411",
   "metadata": {},
   "outputs": [],
   "source": [
    "di"
   ]
  },
  {
   "cell_type": "code",
   "execution_count": null,
   "id": "ee716475",
   "metadata": {},
   "outputs": [],
   "source": [
    "    #di.to_csv('SBI.csv',sheet_name = 'df_2', index=False)\n",
    "    writer2 = pd.ExcelWriter('sbi.xlsx')\n",
    "\n",
    "    df.to_excel(writer2, sheet_name = 'Transactions', index = False)\n",
    "    di.to_excel(writer2, sheet_name = 'Meta Data', index = False)\n",
    "\n",
    "    writer2.save()"
   ]
  },
  {
   "cell_type": "code",
   "execution_count": null,
   "id": "d04f9170",
   "metadata": {},
   "outputs": [],
   "source": []
  },
  {
   "cell_type": "code",
   "execution_count": null,
   "id": "19c418b6",
   "metadata": {},
   "outputs": [],
   "source": []
  }
 ],
 "metadata": {
  "kernelspec": {
   "display_name": "Python 3",
   "language": "python",
   "name": "python3"
  },
  "language_info": {
   "codemirror_mode": {
    "name": "ipython",
    "version": 3
   },
   "file_extension": ".py",
   "mimetype": "text/x-python",
   "name": "python",
   "nbconvert_exporter": "python",
   "pygments_lexer": "ipython3",
   "version": "3.8.8"
  }
 },
 "nbformat": 4,
 "nbformat_minor": 5
}
