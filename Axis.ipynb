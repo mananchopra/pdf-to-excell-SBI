{
 "cells": [
  {
   "cell_type": "code",
   "execution_count": null,
   "id": "0bb4ecd6",
   "metadata": {},
   "outputs": [],
   "source": [
    "import pdfplumber\n",
    "import requests\n",
    "import tabula as tb\n",
    "import pandas as pd\n",
    "import xlrd\n"
   ]
  },
  {
   "cell_type": "code",
   "execution_count": null,
   "id": "83ad259b",
   "metadata": {},
   "outputs": [],
   "source": [
    "file = \"Axis.pdf\""
   ]
  },
  {
   "cell_type": "code",
   "execution_count": null,
   "id": "66d60ece",
   "metadata": {},
   "outputs": [],
   "source": [
    "pdf = pdfplumber.open(file, password=\"913010000994381\")\n",
    "page = pdf.pages"
   ]
  },
  {
   "cell_type": "code",
   "execution_count": null,
   "id": "885fa2c4",
   "metadata": {},
   "outputs": [],
   "source": [
    "rr=[]\n",
    "for i in page or []:\n",
    "    tt=i.extract_table()\n",
    "    cc=[]\n",
    "    if rr==[]:\n",
    "        cnt=True\n",
    "    else:\n",
    "        cnt=False\n",
    "    for j in tt or []:\n",
    "        if cnt:\n",
    "            cc.append(j)\n",
    "        cnt=True\n",
    "        for b in cc:\n",
    "             for y in range(len(b)):\n",
    "                    if b[y]=='-':\n",
    "                        b[y]='0'\n",
    "    rr.append(cc)\n",
    "tf=[]\n",
    "bt=[]\n",
    "cnt=False\n",
    "for i in rr:\n",
    "    for j in i:\n",
    "        if cnt==False:\n",
    "            cnt=True\n",
    "            bt.append(j)\n",
    "        tf.append(j)\n",
    "df=pd.DataFrame(tf)\n",
    "df\n",
    "        "
   ]
  },
  {
   "cell_type": "code",
   "execution_count": null,
   "id": "bbc73fbd",
   "metadata": {},
   "outputs": [],
   "source": []
  },
  {
   "cell_type": "code",
   "execution_count": null,
   "id": "054defad",
   "metadata": {},
   "outputs": [],
   "source": [
    "b=\"\"\n",
    "for i in range(len(bt[0])):\n",
    "    if i==0:\n",
    "        b+=bt[0][i]\n",
    "    else:\n",
    "        b+=\" \"+bt[0][i]\n",
    "b=b.split('\\n')[0]\n",
    "b"
   ]
  },
  {
   "cell_type": "code",
   "execution_count": null,
   "id": "7eab91bc",
   "metadata": {},
   "outputs": [],
   "source": [
    "MetaData = []\n",
    "page = pdf.pages[0]\n",
    "text = page.extract_text()\n",
    "\n",
    "\n",
    "for line in text.split('\\n'):\n",
    "    if line==b:\n",
    "        break\n",
    "    MetaData.append(line)\n",
    "\n",
    "di=pd.DataFrame(MetaData)\n",
    "MetaData     "
   ]
  },
  {
   "cell_type": "code",
   "execution_count": null,
   "id": "786f9e5e",
   "metadata": {},
   "outputs": [],
   "source": [
    "writer2 = pd.ExcelWriter('Axis.xlsx')\n",
    "df.to_excel(writer2, sheet_name = 'Transactions', index = False)\n",
    "di.to_excel(writer2, sheet_name = 'Meta Data', index = False)\n",
    "writer2.save()"
   ]
  },
  {
   "cell_type": "code",
   "execution_count": null,
   "id": "f8d8e4e9",
   "metadata": {},
   "outputs": [],
   "source": []
  },
  {
   "cell_type": "code",
   "execution_count": null,
   "id": "de877a3c",
   "metadata": {},
   "outputs": [],
   "source": [
    "df = pd.read_excel (r'Axis.xlsx', sheet_name='Transactions')\n",
    "di=df.values.tolist()"
   ]
  },
  {
   "cell_type": "code",
   "execution_count": null,
   "id": "3871ea7a",
   "metadata": {},
   "outputs": [],
   "source": [
    "tran=[]\n",
    "for i in di or []:\n",
    "    if str(i[0])!='nan':\n",
    "        tran.append(i)\n",
    "\n",
    "        "
   ]
  },
  {
   "cell_type": "code",
   "execution_count": null,
   "id": "82ef6bf1",
   "metadata": {},
   "outputs": [],
   "source": [
    "class Transactions:\n",
    "    Date=[]\n",
    "    chq_No=[]\n",
    "    Debit=[]\n",
    "    Credit=[]\n",
    "    Balance=[]\n",
    "    Br=[]\n",
    "    def store(self, tran):\n",
    "        for i in tran or []:\n",
    "            self.Date.append(i[0])\n",
    "            self.chq_No.append(i[1])\n",
    "            self.Debit.append(i[2])\n",
    "            self.Credit.append(i[3])\n",
    "            self.Balance.append(i[4])\n",
    "            self.Br.append(i[5])\n",
    "    def showtran(self,i):\n",
    "        tran=[]\n",
    "        tran.append(self.Date[0])\n",
    "        tran.append(self.chq_No[0])\n",
    "        tran.append(self.Debit[0])\n",
    "        tran.append(self.Credit[0])\n",
    "        tran.append(self.Balance[0])\n",
    "        tran.append(self.Br[0])\n",
    "        statement=[]\n",
    "        statement.append(tran)\n",
    "        tran=[]\n",
    "        tran.append(self.Date[i])\n",
    "        tran.append(self.chq_No[i])\n",
    "        tran.append(self.Debit[i])\n",
    "        tran.append(self.Credit[i])\n",
    "        tran.append(self.Balance[i])\n",
    "        tran.append(self.Br[i])\n",
    "        statement.append(tran)\n",
    "        return statement\n",
    "    "
   ]
  },
  {
   "cell_type": "code",
   "execution_count": null,
   "id": "00ebdb8a",
   "metadata": {},
   "outputs": [],
   "source": [
    "Transaction = Transactions()\n",
    "Transaction.store(tran)\n",
    "dl=Transaction.showtran(4)"
   ]
  },
  {
   "cell_type": "code",
   "execution_count": null,
   "id": "73d6023a",
   "metadata": {},
   "outputs": [],
   "source": [
    "dr=pd.DataFrame(dl)\n",
    "dr"
   ]
  },
  {
   "cell_type": "code",
   "execution_count": null,
   "id": "0dea110a",
   "metadata": {},
   "outputs": [],
   "source": []
  },
  {
   "cell_type": "code",
   "execution_count": null,
   "id": "7cec4e5f",
   "metadata": {},
   "outputs": [],
   "source": []
  }
 ],
 "metadata": {
  "kernelspec": {
   "display_name": "Python 3",
   "language": "python",
   "name": "python3"
  },
  "language_info": {
   "codemirror_mode": {
    "name": "ipython",
    "version": 3
   },
   "file_extension": ".py",
   "mimetype": "text/x-python",
   "name": "python",
   "nbconvert_exporter": "python",
   "pygments_lexer": "ipython3",
   "version": "3.8.8"
  }
 },
 "nbformat": 4,
 "nbformat_minor": 5
}
